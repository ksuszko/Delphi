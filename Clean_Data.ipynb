{
 "cells": [
  {
   "cell_type": "code",
   "execution_count": 109,
   "metadata": {},
   "outputs": [],
   "source": [
    "#Libraries\n",
    "import pandas as pd\n",
    "import datetime"
   ]
  },
  {
   "cell_type": "code",
   "execution_count": 110,
   "metadata": {},
   "outputs": [],
   "source": [
    "df = pd.read_csv('JBC_posts.csv')"
   ]
  },
  {
   "cell_type": "code",
   "execution_count": 111,
   "metadata": {},
   "outputs": [],
   "source": [
    "#Create dataframe\n",
    "df_posts= pd.DataFrame()\n",
    "\n",
    "#Add fields\n",
    "df_posts['time'] = df['time']\n",
    "df_posts['text'] = df['text']\n",
    "df_posts['images'] = df['images']\n",
    "df_posts['video'] = df['video']"
   ]
  },
  {
   "cell_type": "code",
   "execution_count": 112,
   "metadata": {},
   "outputs": [],
   "source": [
    "df_posts=df_posts.mask(df.applymap(str).eq('[]'))\n",
    "df_posts=df_posts.fillna('None')"
   ]
  },
  {
   "cell_type": "code",
   "execution_count": 113,
   "metadata": {},
   "outputs": [],
   "source": [
    "df_posts=df_posts.sort_values(by='time')\n",
    "df_posts = df_posts.reset_index(drop=True)"
   ]
  },
  {
   "cell_type": "code",
   "execution_count": 114,
   "metadata": {},
   "outputs": [],
   "source": [
    "df_posts['date']=pd.to_datetime(df_posts['time'], format='%Y-%m-%d %H:%M:%S').dt.strftime('%Y-%m-%d')"
   ]
  },
  {
   "cell_type": "code",
   "execution_count": 125,
   "metadata": {},
   "outputs": [],
   "source": [
    "#Create dataframe\n",
    "df_date= pd.DataFrame()\n",
    "\n",
    "#Add fields\n",
    "df_date['date']=df_posts['date']\n",
    "df_date['index'] = df_date.index\n",
    "df_date['count'] = df_date['index']\n"
   ]
  },
  {
   "cell_type": "code",
   "execution_count": 128,
   "metadata": {},
   "outputs": [
    {
     "name": "stdout",
     "output_type": "stream",
     "text": [
      "           date  count\n",
      "0    2011-12-20      1\n",
      "1    2016-01-26      1\n",
      "2    2016-11-23      1\n",
      "3    2016-12-24      1\n",
      "4    2017-01-04      2\n",
      "..          ...    ...\n",
      "630  2021-04-14      1\n",
      "631  2021-04-15      2\n",
      "632  2021-04-16      3\n",
      "633  2021-04-18      1\n",
      "634  2021-04-19      1\n",
      "\n",
      "[635 rows x 2 columns]\n"
     ]
    }
   ],
   "source": [
    "df_date2 = df_date.groupby('date')['count'].nunique()\n",
    "df_date2=df_date2.to_frame().reset_index()\n",
    "\n",
    "print(df_date2)"
   ]
  },
  {
   "cell_type": "code",
   "execution_count": 129,
   "metadata": {},
   "outputs": [],
   "source": [
    "df_date2.to_csv('JBC_dates.csv',index=False)"
   ]
  },
  {
   "cell_type": "code",
   "execution_count": null,
   "metadata": {},
   "outputs": [],
   "source": []
  }
 ],
 "metadata": {
  "kernelspec": {
   "display_name": "Python 3",
   "language": "python",
   "name": "python3"
  },
  "language_info": {
   "codemirror_mode": {
    "name": "ipython",
    "version": 3
   },
   "file_extension": ".py",
   "mimetype": "text/x-python",
   "name": "python",
   "nbconvert_exporter": "python",
   "pygments_lexer": "ipython3",
   "version": "3.8.5"
  }
 },
 "nbformat": 4,
 "nbformat_minor": 4
}
