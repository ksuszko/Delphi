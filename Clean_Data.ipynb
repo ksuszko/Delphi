{
 "cells": [
  {
   "cell_type": "code",
   "execution_count": 20,
   "metadata": {},
   "outputs": [],
   "source": [
    "#Libraries\n",
    "import pandas as pd"
   ]
  },
  {
   "cell_type": "code",
   "execution_count": 21,
   "metadata": {},
   "outputs": [],
   "source": [
    "df = pd.read_csv('JBC_posts.csv')"
   ]
  },
  {
   "cell_type": "code",
   "execution_count": 22,
   "metadata": {},
   "outputs": [
    {
     "name": "stdout",
     "output_type": "stream",
     "text": [
      "0       Sometimes I'm up, sometimes I'm down. Everythi...\n",
      "1                              I think my dogs are broken\n",
      "2                                Damn. I used to be smart\n",
      "3       Chihuahuas should not be a breed. Everyone fre...\n",
      "4       Nothing brings me more joy than watching my pi...\n",
      "                              ...                        \n",
      "2300                                                  NaN\n",
      "2301    (Him is such a bigger boy. Him Daddy's bigger ...\n",
      "2302    I read so many different types of comments on ...\n",
      "2303                                                  NaN\n",
      "2304                 APPS.FACEBOOK.COM\\nLog into Facebook\n",
      "Name: text, Length: 2305, dtype: object\n"
     ]
    }
   ],
   "source": [
    "print(df['text'])"
   ]
  },
  {
   "cell_type": "code",
   "execution_count": 23,
   "metadata": {},
   "outputs": [
    {
     "name": "stdout",
     "output_type": "stream",
     "text": [
      "0       2021-04-19 15:02:00\n",
      "1       2021-04-18 01:41:00\n",
      "2       2021-04-16 17:12:00\n",
      "3       2021-04-16 11:27:00\n",
      "4       2021-04-16 10:58:00\n",
      "               ...         \n",
      "2300    2017-01-04 20:01:00\n",
      "2301    2016-12-24 00:42:00\n",
      "2302    2016-11-23 19:31:00\n",
      "2303    2016-01-26 22:23:00\n",
      "2304    2011-12-20 22:45:00\n",
      "Name: time, Length: 2305, dtype: object\n"
     ]
    }
   ],
   "source": [
    "print(df['time'])"
   ]
  },
  {
   "cell_type": "code",
   "execution_count": 24,
   "metadata": {},
   "outputs": [],
   "source": [
    "#Create dataframe\n",
    "df_posts= pd.DataFrame()\n",
    "\n",
    "#Add fields\n",
    "df_posts['time'] = df['time']\n",
    "df_posts['text'] = df['text']\n",
    "df_posts['images'] = df['images']\n",
    "df_posts['video'] = df['video']"
   ]
  },
  {
   "cell_type": "code",
   "execution_count": 25,
   "metadata": {},
   "outputs": [
    {
     "name": "stdout",
     "output_type": "stream",
     "text": [
      "                     time                                               text  \\\n",
      "0     2021-04-19 15:02:00  Sometimes I'm up, sometimes I'm down. Everythi...   \n",
      "1     2021-04-18 01:41:00                         I think my dogs are broken   \n",
      "2     2021-04-16 17:12:00                           Damn. I used to be smart   \n",
      "3     2021-04-16 11:27:00  Chihuahuas should not be a breed. Everyone fre...   \n",
      "4     2021-04-16 10:58:00  Nothing brings me more joy than watching my pi...   \n",
      "...                   ...                                                ...   \n",
      "2300  2017-01-04 20:01:00                                               None   \n",
      "2301  2016-12-24 00:42:00  (Him is such a bigger boy. Him Daddy's bigger ...   \n",
      "2302  2016-11-23 19:31:00  I read so many different types of comments on ...   \n",
      "2303  2016-01-26 22:23:00                                               None   \n",
      "2304  2011-12-20 22:45:00               APPS.FACEBOOK.COM\\nLog into Facebook   \n",
      "\n",
      "                                                 images video  \n",
      "0                                                  None  None  \n",
      "1     ['https://scontent-lga3-1.xx.fbcdn.net/v/t1.64...  None  \n",
      "2                                                  None  None  \n",
      "3                                                  None  None  \n",
      "4                                                  None  None  \n",
      "...                                                 ...   ...  \n",
      "2300  ['https://scontent-lga3-1.xx.fbcdn.net/v/t1.18...  None  \n",
      "2301                                               None  None  \n",
      "2302                                               None  None  \n",
      "2303  ['https://scontent-lga3-1.xx.fbcdn.net/v/t1.18...  None  \n",
      "2304                                               None  None  \n",
      "\n",
      "[2305 rows x 4 columns]\n"
     ]
    }
   ],
   "source": [
    "df_posts=df_posts.mask(df.applymap(str).eq('[]'))\n",
    "df_posts=df_posts.fillna('None')\n",
    "print(df_posts)"
   ]
  },
  {
   "cell_type": "code",
   "execution_count": 26,
   "metadata": {},
   "outputs": [],
   "source": [
    "df_posts.to_csv('JBC_timeline.csv')"
   ]
  },
  {
   "cell_type": "code",
   "execution_count": null,
   "metadata": {},
   "outputs": [],
   "source": []
  }
 ],
 "metadata": {
  "kernelspec": {
   "display_name": "Python 3",
   "language": "python",
   "name": "python3"
  },
  "language_info": {
   "codemirror_mode": {
    "name": "ipython",
    "version": 3
   },
   "file_extension": ".py",
   "mimetype": "text/x-python",
   "name": "python",
   "nbconvert_exporter": "python",
   "pygments_lexer": "ipython3",
   "version": "3.8.5"
  }
 },
 "nbformat": 4,
 "nbformat_minor": 4
}
